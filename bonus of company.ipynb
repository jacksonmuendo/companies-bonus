{
 "cells": [
  {
   "cell_type": "code",
   "execution_count": null,
   "metadata": {},
   "outputs": [],
   "source": [
    "### to come up with a programe that can prompt the user\n",
    "### to enter gender "
   ]
  },
  {
   "cell_type": "code",
   "execution_count": 2,
   "metadata": {},
   "outputs": [
    {
     "name": "stdout",
     "output_type": "stream",
     "text": [
      "enter M to {male}, or F to {female},\n",
      "M\n",
      "enter the amount of salary that you do earn per month60000\n",
      "your bonus = 3000.0\n",
      "your gross salary =: 63000.0\n",
      "F\n",
      "enter the amount of salary that you do earn per month60000\n",
      "your bonus = 6000.0\n",
      "your gross salary =: 66000.0\n"
     ]
    }
   ],
   "source": [
    "#salary =int(input ('enter the amount of salary that you do earn per month'))\n",
    "print('enter M to {male}, or F to {female},')\n",
    "#salary = float (salary)\n",
    "while True:\n",
    "    gender = input()\n",
    "    salary =int(input ('enter the amount of salary that you do earn per month'))\n",
    "    salary = float (salary)\n",
    "    if gender == 'M':\n",
    "        if salary <= 10000:\n",
    "            bonus = 0.07 * salary\n",
    "            print('your bonus =', bonus)\n",
    "            total = salary + bonus\n",
    "            print(\"your gross salary =:\",total)\n",
    "        else:\n",
    "            bonus = 0.05 * salary\n",
    "            print('your bonus =',bonus)\n",
    "            total = salary + bonus\n",
    "            print(\"your gross salary =:\",total)\n",
    "    else:\n",
    "        if salary <= 10000:\n",
    "            bonus = 0.12 * salary\n",
    "            print('your bonus =', bonus)\n",
    "            total = salary + bonus\n",
    "            print(\"your gross salary =:\",total)\n",
    "        else:\n",
    "            bonus = 0.10 * salary\n",
    "            print('your bonus =',bonus)\n",
    "            total = salary + bonus\n",
    "            print(\"your gross salary =:\",total)    \n",
    "            break"
   ]
  },
  {
   "cell_type": "code",
   "execution_count": null,
   "metadata": {},
   "outputs": [],
   "source": []
  },
  {
   "cell_type": "code",
   "execution_count": null,
   "metadata": {},
   "outputs": [],
   "source": []
  }
 ],
 "metadata": {
  "kernelspec": {
   "display_name": "Python 3",
   "language": "python",
   "name": "python3"
  },
  "language_info": {
   "codemirror_mode": {
    "name": "ipython",
    "version": 3
   },
   "file_extension": ".py",
   "mimetype": "text/x-python",
   "name": "python",
   "nbconvert_exporter": "python",
   "pygments_lexer": "ipython3",
   "version": "3.7.3"
  }
 },
 "nbformat": 4,
 "nbformat_minor": 2
}
